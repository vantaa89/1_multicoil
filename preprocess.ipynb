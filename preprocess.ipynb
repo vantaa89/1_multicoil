{
 "cells": [
  {
   "cell_type": "markdown",
   "metadata": {},
   "source": [
    "# 데이터 전처리 과정\n",
    "* Uncombined_data는 사이즈가 224 x 224 x 16 x 7 x 32\n",
    "* 이 중 7은 echo dimension으로, 서로 다른 TE를 두고 7번을 찍은 것. 여기에서는 0번(가장 짧은 TE)만 사용\n",
    "* .mat 파일 사이즈가 너무 커서 불러오는데 오래 걸리므로, 224 x 224 x 16 x 1 x 32 파일로 다시 저장"
   ]
  },
  {
   "cell_type": "code",
   "execution_count": 1,
   "metadata": {},
   "outputs": [],
   "source": [
    "from scipy.io import loadmat, savemat\n",
    "import os"
   ]
  },
  {
   "cell_type": "code",
   "execution_count": 2,
   "metadata": {},
   "outputs": [],
   "source": [
    "image_path = \"./Data/Uncombined_data/\"\n",
    "sensmap_path = \"./Data/sensitivity/\"\n",
    "\n",
    "image_save = \"./Data/Uncombined_data1/\"\n",
    "sensmap_save = \"./Data/sensitivity1/\"\n",
    "os.makedirs(image_save)\n",
    "os.makedirs(sensmap_save)\n",
    "\n",
    "images = ['1-3.mat', '2-3.mat', '3-3.mat', '4-3.mat', '5-3.mat', '6-3.mat', '7-3.mat', '8-3.mat', '9-3.mat', '10-3.mat']\n",
    "sensmaps = ['1-3.mat', '2-3.mat', '3-3.mat', '4-3.mat', '5-3.mat', '6-3.mat', '7-3.mat', '8-3.mat', '9-3.mat', '10-3.mat']"
   ]
  },
  {
   "cell_type": "code",
   "execution_count": 3,
   "metadata": {},
   "outputs": [],
   "source": [
    "for i, image_filename in enumerate(images):\n",
    "    mat = loadmat(image_path + \"/\" + image_filename)['uncomb_img'][:,:,:,0:1,:]\n",
    "    assert len(mat.shape) == 5\n",
    "    savemat(image_save + \"/\" + str(i+1) + \".mat\", {\"uncomb_img\": mat})"
   ]
  },
  {
   "cell_type": "code",
   "execution_count": 4,
   "metadata": {},
   "outputs": [],
   "source": [
    "for i, sensmap_filename in enumerate(sensmaps):\n",
    "    mat = loadmat(sensmap_path + \"/\" + sensmap_filename)['sensitivity'][:,:,:,0:1,:]\n",
    "    savemat(sensmap_save + \"/\" + str(i+1) + \".mat\", {\"sensitivity\": mat})"
   ]
  },
  {
   "cell_type": "code",
   "execution_count": null,
   "metadata": {},
   "outputs": [],
   "source": []
  }
 ],
 "metadata": {
  "kernelspec": {
   "display_name": "motion",
   "language": "python",
   "name": "motion"
  },
  "language_info": {
   "codemirror_mode": {
    "name": "ipython",
    "version": 3
   },
   "file_extension": ".py",
   "mimetype": "text/x-python",
   "name": "python",
   "nbconvert_exporter": "python",
   "pygments_lexer": "ipython3",
   "version": "3.10.4"
  }
 },
 "nbformat": 4,
 "nbformat_minor": 4
}
