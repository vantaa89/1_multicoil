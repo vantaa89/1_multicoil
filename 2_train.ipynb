{
 "cells": [
  {
   "cell_type": "code",
   "execution_count": 1,
   "metadata": {},
   "outputs": [],
   "source": [
    "import os\n",
    "os.environ[\"CUDA_DEVICE_ORDER\"]=\"PCI_BUS_ID\"   \n",
    "os.environ[\"CUDA_VISIBLE_DEVICES\"]=\"1\""
   ]
  },
  {
   "cell_type": "code",
   "execution_count": 2,
   "metadata": {},
   "outputs": [
    {
     "name": "stdout",
     "output_type": "stream",
     "text": [
      "cuda:0\n"
     ]
    }
   ],
   "source": [
    "import torch\n",
    "import torch.nn as nn\n",
    "\n",
    "import torch.optim as optim\n",
    "import numpy as np\n",
    "import matplotlib.pyplot as plt\n",
    "import numpy as np\n",
    "from datetime import datetime   \n",
    "\n",
    "from torch.utils.data import Dataset, DataLoader\n",
    "from scipy import io, signal\n",
    "from torchsummary import summary\n",
    "import math\n",
    "import random\n",
    "import h5py\n",
    "from tqdm import tqdm\n",
    "from IPython.display import clear_output\n",
    "import import_ipynb\n",
    "\n",
    "\n",
    "device = torch.device('cuda:0' if torch.cuda.is_available() else 'cpu')\n",
    "print(device)"
   ]
  },
  {
   "cell_type": "code",
   "execution_count": 3,
   "metadata": {},
   "outputs": [],
   "source": [
    "class loadSimulatedDataset(Dataset):\n",
    "    def __init__(self, path, split='train'):\n",
    "        self.datapath = path\n",
    "        self.dataCnt = 0\n",
    "        self.split = split\n",
    "        \n",
    "        data_files = os.listdir(path)\n",
    "        self.images_path = []\n",
    "        self.labels = []\n",
    "        for data_file in data_files:\n",
    "            # if data_file not in [str(i) + \".h5\" for i in range(0, 23)]:   # used when the simulation is not done\n",
    "            #     continue\n",
    "            with h5py.File(path + \"/\" + data_file) as file:\n",
    "                for group in list(file):\n",
    "                    self.labels.append(np.array(file[group]['label']))\n",
    "                    self.images_path.append((path + \"/\" + data_file, group))\n",
    "                    self.dataCnt = self.dataCnt + 1\n",
    "        \n",
    "    def __getitem__(self, idx):\n",
    "        img_path, group = self.images_path[idx]\n",
    "        label = self.labels[idx]\n",
    "        with h5py.File(img_path) as file:\n",
    "            img = np.array(file[group]['image'])\n",
    "            ret = np.zeros((2,) + img.shape)\n",
    "            ret[0,:,:] = np.real(img)\n",
    "            ret[1,:,:] = np.imag(img)\n",
    "        \n",
    "        # normalization\n",
    "        ret_norm = ret / np.std(np.abs(ret))\n",
    "        \n",
    "        return torch.FloatTensor(ret_norm), self.labels[idx]\n",
    "            \n",
    "            \n",
    "    def __len__(self):\n",
    "        return self.dataCnt\n"
   ]
  },
  {
   "cell_type": "code",
   "execution_count": 4,
   "metadata": {},
   "outputs": [
    {
     "name": "stdout",
     "output_type": "stream",
     "text": [
      "7200 160\n"
     ]
    }
   ],
   "source": [
    "batch_size = 10\n",
    "initial_lr = 0.01\n",
    "\n",
    "\n",
    "train_path = \"../1_multicoil/Data/h5/train_rss\"\n",
    "test_path = \"../1_multicoil/Data/h5/test\"\n",
    "\n",
    "train_ds = loadSimulatedDataset(train_path, 'train')\n",
    "test_ds = loadSimulatedDataset(test_path, 'test')\n",
    "\n",
    "train_dl = DataLoader(train_ds, batch_size=batch_size, shuffle=True, num_workers=6)\n",
    "test_dl = DataLoader(test_ds, batch_size=batch_size, shuffle=True, num_workers=6)\n",
    "\n",
    "\n",
    "print(len(train_ds), len(test_ds))"
   ]
  },
  {
   "cell_type": "code",
   "execution_count": null,
   "metadata": {},
   "outputs": [],
   "source": [
    "corrupted, pe = train_ds[random.randint(0, len(train_ds)-1)]\n",
    "plt.imshow(np.real(np.fft.ifftn(corrupted[0] + 1j * corrupted[1], axes=(0, 1))), cmap=\"gray\", vmin = 0, vmax=1/224 * 3)\n",
    "print(corrupted.shape, f\"phase-encoding line: {pe}\")"
   ]
  },
  {
   "cell_type": "code",
   "execution_count": 6,
   "metadata": {},
   "outputs": [],
   "source": [
    "from torchvision.models import resnet101\n",
    "\n",
    "# replace the first and the last layer of the resnet50 network from torchvision\n",
    "model = resnet101(weights=None).to(device)\n",
    "model.fc = nn.Linear(2048, 224, True).to(device)\n",
    "model.conv1 = nn.Conv2d(2, 64, kernel_size=7, stride=2, padding=3, bias=False).to(device)\n",
    "\n",
    "\n",
    "optimizer = optim.Adam(model.parameters(), lr=initial_lr)\n",
    "lr_scheduler = optim.lr_scheduler.ReduceLROnPlateau(optimizer=optimizer,\n",
    "                                         mode='min',\n",
    "                                         factor=0.5,\n",
    "                                         patience=5, verbose=True, threshold=1e-3)\n",
    "\n",
    "criterion = nn.CrossEntropyLoss().to(device)"
   ]
  },
  {
   "cell_type": "code",
   "execution_count": 7,
   "metadata": {},
   "outputs": [
    {
     "name": "stdout",
     "output_type": "stream",
     "text": [
      "Epoch: 1 / 10\n"
     ]
    },
    {
     "name": "stderr",
     "output_type": "stream",
     "text": [
      "100%|█████████████████████████████████████████| 720/720 [01:43<00:00,  6.98it/s]"
     ]
    },
    {
     "name": "stdout",
     "output_type": "stream",
     "text": [
      "Train loss : 4.75385046005249\n"
     ]
    },
    {
     "name": "stderr",
     "output_type": "stream",
     "text": [
      "\n"
     ]
    },
    {
     "name": "stdout",
     "output_type": "stream",
     "text": [
      "Test accuracy: 0.012500000186264515\n",
      "Epoch: 2 / 10\n"
     ]
    },
    {
     "name": "stderr",
     "output_type": "stream",
     "text": [
      "100%|█████████████████████████████████████████| 720/720 [01:43<00:00,  6.93it/s]\n"
     ]
    },
    {
     "name": "stdout",
     "output_type": "stream",
     "text": [
      "Train loss : 4.77593994140625\n",
      "Test accuracy: 0.0062500000931322575\n",
      "Epoch: 3 / 10\n"
     ]
    },
    {
     "name": "stderr",
     "output_type": "stream",
     "text": [
      "100%|█████████████████████████████████████████| 720/720 [01:44<00:00,  6.88it/s]"
     ]
    },
    {
     "name": "stdout",
     "output_type": "stream",
     "text": [
      "Train loss : 4.850268840789795\n"
     ]
    },
    {
     "name": "stderr",
     "output_type": "stream",
     "text": [
      "\n"
     ]
    },
    {
     "name": "stdout",
     "output_type": "stream",
     "text": [
      "Test accuracy: 0.012500000186264515\n",
      "Epoch: 4 / 10\n"
     ]
    },
    {
     "name": "stderr",
     "output_type": "stream",
     "text": [
      "100%|█████████████████████████████████████████| 720/720 [01:44<00:00,  6.86it/s]\n"
     ]
    },
    {
     "name": "stdout",
     "output_type": "stream",
     "text": [
      "Train loss : 4.664586067199707\n",
      "Test accuracy: 0.0062500000931322575\n",
      "Epoch: 5 / 10\n"
     ]
    },
    {
     "name": "stderr",
     "output_type": "stream",
     "text": [
      "100%|█████████████████████████████████████████| 720/720 [01:45<00:00,  6.83it/s]"
     ]
    },
    {
     "name": "stdout",
     "output_type": "stream",
     "text": [
      "Train loss : 4.846366882324219\n"
     ]
    },
    {
     "name": "stderr",
     "output_type": "stream",
     "text": [
      "\n"
     ]
    },
    {
     "name": "stdout",
     "output_type": "stream",
     "text": [
      "Test accuracy: 0.0062500000931322575\n",
      "Epoch: 6 / 10\n"
     ]
    },
    {
     "name": "stderr",
     "output_type": "stream",
     "text": [
      "100%|█████████████████████████████████████████| 720/720 [01:45<00:00,  6.82it/s]"
     ]
    },
    {
     "name": "stdout",
     "output_type": "stream",
     "text": [
      "Train loss : 4.729260444641113\n"
     ]
    },
    {
     "name": "stderr",
     "output_type": "stream",
     "text": [
      "\n"
     ]
    },
    {
     "name": "stdout",
     "output_type": "stream",
     "text": [
      "Test accuracy: 0.0\n",
      "Epoch: 7 / 10\n"
     ]
    },
    {
     "name": "stderr",
     "output_type": "stream",
     "text": [
      "100%|█████████████████████████████████████████| 720/720 [01:45<00:00,  6.82it/s]"
     ]
    },
    {
     "name": "stdout",
     "output_type": "stream",
     "text": [
      "Train loss : 4.703421592712402\n"
     ]
    },
    {
     "name": "stderr",
     "output_type": "stream",
     "text": [
      "\n"
     ]
    },
    {
     "name": "stdout",
     "output_type": "stream",
     "text": [
      "Test accuracy: 0.0062500000931322575\n",
      "Epoch: 8 / 10\n"
     ]
    },
    {
     "name": "stderr",
     "output_type": "stream",
     "text": [
      "100%|█████████████████████████████████████████| 720/720 [01:45<00:00,  6.82it/s]\n"
     ]
    },
    {
     "name": "stdout",
     "output_type": "stream",
     "text": [
      "Train loss : 4.70638370513916\n",
      "Test accuracy: 0.0\n",
      "Epoch: 9 / 10\n"
     ]
    },
    {
     "name": "stderr",
     "output_type": "stream",
     "text": [
      "100%|█████████████████████████████████████████| 720/720 [01:45<00:00,  6.83it/s]\n"
     ]
    },
    {
     "name": "stdout",
     "output_type": "stream",
     "text": [
      "Train loss : 4.665436744689941\n",
      "Test accuracy: 0.0062500000931322575\n",
      "Epoch: 10 / 10\n"
     ]
    },
    {
     "name": "stderr",
     "output_type": "stream",
     "text": [
      "100%|█████████████████████████████████████████| 720/720 [01:45<00:00,  6.81it/s]"
     ]
    },
    {
     "name": "stdout",
     "output_type": "stream",
     "text": [
      "Train loss : 4.631258964538574\n"
     ]
    },
    {
     "name": "stderr",
     "output_type": "stream",
     "text": [
      "\n"
     ]
    },
    {
     "name": "stdout",
     "output_type": "stream",
     "text": [
      "Test accuracy: 0.0\n"
     ]
    }
   ],
   "source": [
    "epoch_size = 10\n",
    "train_loss = []\n",
    "test_acc = []\n",
    "for epoch in range(1, epoch_size+1): # 0.h5 is test set\n",
    "    model.train()\n",
    "    print(f\"Epoch: {epoch} / {epoch_size}\")\n",
    "    for image, label in tqdm(train_dl):\n",
    "        optimizer.zero_grad()\n",
    "        input = image.to(device)\n",
    "        output = model(input)\n",
    "        \n",
    "        loss = criterion(output, label.to(device))\n",
    "        loss.backward()\n",
    "        optimizer.step()\n",
    "        \n",
    "    with torch.no_grad():\n",
    "        model.eval()\n",
    "        print(f\"Train loss : {loss.item()}\")\n",
    "        train_loss.append(loss.item())\n",
    "        correctCnt, cnt = 0, 0\n",
    "        for image, label in test_dl:\n",
    "            input = image.to(device)\n",
    "            output = model(input)\n",
    "            cnt += len(label)\n",
    "            correctCnt += (torch.argmax(output, dim=1).cpu() == label).sum()\n",
    "        test_acc.append(correctCnt/cnt)\n",
    "        print(f\"Test accuracy: {correctCnt/cnt}\")"
   ]
  },
  {
   "cell_type": "code",
   "execution_count": 8,
   "metadata": {},
   "outputs": [
    {
     "data": {
      "image/png": "[encoded data removed]",
      "text/plain": [
       "<Figure size 432x288 with 1 Axes>"
      ]
     },
     "metadata": {
      "needs_background": "light"
     },
     "output_type": "display_data"
    }
   ],
   "source": [
    "plt.plot(train_loss, )\n",
    "plt.yscale(\"log\")"
   ]
  },
  {
   "cell_type": "code",
   "execution_count": null,
   "metadata": {},
   "outputs": [],
   "source": []
  }
 ],
 "metadata": {
  "kernelspec": {
   "display_name": "motion",
   "language": "python",
   "name": "motion"
  },
  "language_info": {
   "codemirror_mode": {
    "name": "ipython",
    "version": 3
   },
   "file_extension": ".py",
   "mimetype": "text/x-python",
   "name": "python",
   "nbconvert_exporter": "python",
   "pygments_lexer": "ipython3",
   "version": "3.10.4"
  }
 },
 "nbformat": 4,
 "nbformat_minor": 4
}
